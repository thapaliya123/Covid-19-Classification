{
  "nbformat": 4,
  "nbformat_minor": 0,
  "metadata": {
    "colab": {
      "name": "train_covid19.ipynb",
      "provenance": [],
      "authorship_tag": "ABX9TyOggwCGKLyIa9FbeKnX7OYY",
      "include_colab_link": true
    },
    "kernelspec": {
      "name": "python3",
      "display_name": "Python 3"
    },
    "accelerator": "GPU"
  },
  "cells": [
    {
      "cell_type": "markdown",
      "metadata": {
        "id": "view-in-github",
        "colab_type": "text"
      },
      "source": [
        "<a href=\"https://colab.research.google.com/github/thapaliya123/Covid-19-Classification/blob/master/train_covid19.ipynb\" target=\"_parent\"><img src=\"https://colab.research.google.com/assets/colab-badge.svg\" alt=\"Open In Colab\"/></a>"
      ]
    },
    {
      "cell_type": "code",
      "metadata": {
        "id": "D0Nfwvydlizy",
        "colab_type": "code",
        "colab": {
          "base_uri": "https://localhost:8080/",
          "height": 54
        },
        "outputId": "b9e9c0e3-a859-4dff-d0dd-3ecdd9ee9ef1"
      },
      "source": [
        "#mount google drive\n",
        "\n",
        "from google.colab import drive\n",
        "drive.mount(\"/content/gdrive\")\n"
      ],
      "execution_count": 3,
      "outputs": [
        {
          "output_type": "stream",
          "text": [
            "Drive already mounted at /content/gdrive; to attempt to forcibly remount, call drive.mount(\"/content/gdrive\", force_remount=True).\n"
          ],
          "name": "stdout"
        }
      ]
    },
    {
      "cell_type": "code",
      "metadata": {
        "id": "gaYf4rf6mJnk",
        "colab_type": "code",
        "colab": {
          "base_uri": "https://localhost:8080/",
          "height": 51
        },
        "outputId": "5f955575-9756-474a-912f-f6c6e13e7047"
      },
      "source": [
        "#import the necessary packages\n",
        "import tensorflow as tf\n",
        "from tensorflow import keras\n",
        "from sklearn.model_selection import train_test_split\n",
        "import numpy as np\n",
        "import pickle\n",
        "import argparse\n",
        "import cv2\n",
        "import os\n",
        "import vis\n",
        "\n",
        "FEATURES_PICKLE_FILE  = \"/content/gdrive/My Drive/xray_image_classifiaction/features_datasets.pickle\"\n",
        "LABELS_PICKLE_FILE = \"/content/gdrive/My Drive/xray_image_classifiaction/label_datasets.pickle\"\n",
        "\n",
        "\n",
        "#loading_datasets_stored_in_the _pickle_file\n",
        "print(\"loading datasets stored in the pickle file\")\n",
        "features_datasets = pickle.load(open(FEATURES_PICKLE_FILE, \"rb\"))\n",
        "label_datasets = pickle.load(open(LABELS_PICKLE_FILE, \"rb\"))\n",
        "print(\"loaded datasets stored in the pickle  file\")\n",
        "\n",
        "# label_datasets = keras.utils.to_categorical(label_datasets, num_classes = 2, dtype='float32')"
      ],
      "execution_count": 4,
      "outputs": [
        {
          "output_type": "stream",
          "text": [
            "loading datasets stored in the pickle file\n",
            "loaded datasets stored in the pickle  file\n"
          ],
          "name": "stdout"
        }
      ]
    },
    {
      "cell_type": "code",
      "metadata": {
        "id": "zJvvuX5nIAK4",
        "colab_type": "code",
        "colab": {
          "base_uri": "https://localhost:8080/",
          "height": 136
        },
        "outputId": "96325876-5417-4037-96c5-e52bb5c3b112"
      },
      "source": [
        "#splitting_the_loaded_datasets_for_trainin_and_testing\n",
        "\n",
        "print(\"splitting the loaded datasets for training and testing\")\n",
        "(X_train, X_test, Y_train, Y_test) = train_test_split(features_datasets, label_datasets,\n",
        "\ttest_size=0.20, stratify=label_datasets, random_state=42)\n",
        "Y_train = keras.utils.to_categorical(Y_train, num_classes = 2, dtype='float32')\n",
        "Y_test = keras.utils.to_categorical(Y_test, num_classes = 2, dtype='float32')\n",
        "print(\"splitted the loaded datasets into training set and testing sets\")\n",
        "\n",
        "\n",
        "#visualizing_the_shape\n",
        "print(\"visualizing the shapes\")\n",
        "\n",
        "print(X_train.shape)\n",
        "print(X_test.shape)\n",
        "print(Y_train.shape)\n",
        "print(Y_test.shape)\n"
      ],
      "execution_count": 32,
      "outputs": [
        {
          "output_type": "stream",
          "text": [
            "splitting the loaded datasets for training and testing\n",
            "splitted the loaded datasets into training set and testing sets\n",
            "visualizing the shapes\n",
            "(40, 224, 224, 1)\n",
            "(10, 224, 224, 1)\n",
            "(40, 2)\n",
            "(10, 2)\n"
          ],
          "name": "stdout"
        }
      ]
    },
    {
      "cell_type": "code",
      "metadata": {
        "id": "CtvhE9HZLDL_",
        "colab_type": "code",
        "colab": {
          "base_uri": "https://localhost:8080/",
          "height": 34
        },
        "outputId": "cca16f19-c8c1-4630-d8b1-c728e5216731"
      },
      "source": [
        "#normalizing_the_datasets\n",
        "X_train = X_train/255.0\n",
        "X_test = X_test/255.0\n",
        "print(\"datasets normalized\")"
      ],
      "execution_count": 9,
      "outputs": [
        {
          "output_type": "stream",
          "text": [
            "datasets normalized\n"
          ],
          "name": "stdout"
        }
      ]
    },
    {
      "cell_type": "code",
      "metadata": {
        "id": "DstvYvpHL6Qm",
        "colab_type": "code",
        "colab": {}
      },
      "source": [
        "from keras.layers import Convolution2D\n",
        "from keras.layers import Convolution2D,Activation\n",
        "from keras.layers import Dropout\n",
        "from keras.layers import MaxPooling2D\n",
        "from keras.layers import Flatten\n",
        "from keras.layers import Dense\n",
        "from keras.optimizers import Adam\n",
        "#building_the_convoluional_neural_network\n",
        "\n",
        "#adding_the_convolutional_layer\n",
        "classifier = keras.Sequential()\n",
        "classifier.add(keras.layers.Convolution2D(64, 3, 3, input_shape=(224, 224, 1), activation='relu'))\n",
        "\n",
        "#adding_the_max_pooling_layer\n",
        "classifier.add(keras.layers.MaxPooling2D(pool_size = (2, 2)))\n",
        "\n",
        "classifier.add(keras.layers.Convolution2D(64, 2, 2, activation='relu'))\n",
        "classifier.add(keras.layers.MaxPooling2D(pool_size = (2, 2)))\n",
        "\n",
        "\n",
        "\n"
      ],
      "execution_count": 12,
      "outputs": []
    },
    {
      "cell_type": "code",
      "metadata": {
        "id": "Llm_0TgqL6o6",
        "colab_type": "code",
        "colab": {}
      },
      "source": [
        "classifier.add(keras.layers.Flatten())"
      ],
      "execution_count": 13,
      "outputs": []
    },
    {
      "cell_type": "code",
      "metadata": {
        "id": "tMuoapo_P8f0",
        "colab_type": "code",
        "colab": {}
      },
      "source": [
        "classifier.add(keras.layers.Dense(64, activation = \"relu\"))# kernel_regularizer=keras.regularizers.l2(0.1),\n",
        "classifier.add(keras.layers.Dense(2, activation = \"softmax\"))\n"
      ],
      "execution_count": 14,
      "outputs": []
    },
    {
      "cell_type": "code",
      "metadata": {
        "id": "X8UvcuPGRPLf",
        "colab_type": "code",
        "colab": {}
      },
      "source": [
        "\n",
        "classifier.compile(keras.optimizers.Adam(lr = 0.001), loss = 'categorical_crossentropy', metrics = ['accuracy'])"
      ],
      "execution_count": 15,
      "outputs": []
    },
    {
      "cell_type": "code",
      "metadata": {
        "id": "ATTnZTpXRpUP",
        "colab_type": "code",
        "colab": {
          "base_uri": "https://localhost:8080/",
          "height": 1000
        },
        "outputId": "a8b02058-85a0-4065-e679-a0aebc08a564"
      },
      "source": [
        "Y_train = np.array(Y_train)\n",
        "Y_test = np.array(Y_test)\n",
        "history = classifier.fit(X_train, Y_train,epochs=100, batch_size=32,validation_data=(X_test, Y_test))"
      ],
      "execution_count": 16,
      "outputs": [
        {
          "output_type": "stream",
          "text": [
            "Epoch 1/100\n",
            "2/2 [==============================] - 0s 107ms/step - loss: 0.7089 - accuracy: 0.3750 - val_loss: 0.6818 - val_accuracy: 0.5000\n",
            "Epoch 2/100\n",
            "2/2 [==============================] - 0s 13ms/step - loss: 0.6737 - accuracy: 0.5000 - val_loss: 0.6969 - val_accuracy: 0.5000\n",
            "Epoch 3/100\n",
            "2/2 [==============================] - 0s 13ms/step - loss: 0.6988 - accuracy: 0.5000 - val_loss: 0.6612 - val_accuracy: 0.5000\n",
            "Epoch 4/100\n",
            "2/2 [==============================] - 0s 13ms/step - loss: 0.6560 - accuracy: 0.5000 - val_loss: 0.6200 - val_accuracy: 0.7000\n",
            "Epoch 5/100\n",
            "2/2 [==============================] - 0s 12ms/step - loss: 0.6119 - accuracy: 0.7750 - val_loss: 0.5808 - val_accuracy: 1.0000\n",
            "Epoch 6/100\n",
            "2/2 [==============================] - 0s 12ms/step - loss: 0.5648 - accuracy: 0.9750 - val_loss: 0.5283 - val_accuracy: 1.0000\n",
            "Epoch 7/100\n",
            "2/2 [==============================] - 0s 12ms/step - loss: 0.5113 - accuracy: 0.9750 - val_loss: 0.4598 - val_accuracy: 1.0000\n",
            "Epoch 8/100\n",
            "2/2 [==============================] - 0s 13ms/step - loss: 0.4464 - accuracy: 0.9750 - val_loss: 0.3864 - val_accuracy: 1.0000\n",
            "Epoch 9/100\n",
            "2/2 [==============================] - 0s 13ms/step - loss: 0.3688 - accuracy: 0.9500 - val_loss: 0.3221 - val_accuracy: 0.9000\n",
            "Epoch 10/100\n",
            "2/2 [==============================] - 0s 13ms/step - loss: 0.3037 - accuracy: 0.9500 - val_loss: 0.2273 - val_accuracy: 1.0000\n",
            "Epoch 11/100\n",
            "2/2 [==============================] - 0s 13ms/step - loss: 0.2250 - accuracy: 0.9750 - val_loss: 0.1523 - val_accuracy: 1.0000\n",
            "Epoch 12/100\n",
            "2/2 [==============================] - 0s 13ms/step - loss: 0.1768 - accuracy: 0.9500 - val_loss: 0.1128 - val_accuracy: 1.0000\n",
            "Epoch 13/100\n",
            "2/2 [==============================] - 0s 14ms/step - loss: 0.1312 - accuracy: 0.9750 - val_loss: 0.0876 - val_accuracy: 1.0000\n",
            "Epoch 14/100\n",
            "2/2 [==============================] - 0s 14ms/step - loss: 0.1052 - accuracy: 0.9750 - val_loss: 0.0496 - val_accuracy: 1.0000\n",
            "Epoch 15/100\n",
            "2/2 [==============================] - 0s 13ms/step - loss: 0.0874 - accuracy: 0.9750 - val_loss: 0.0274 - val_accuracy: 1.0000\n",
            "Epoch 16/100\n",
            "2/2 [==============================] - 0s 16ms/step - loss: 0.0594 - accuracy: 0.9750 - val_loss: 0.0295 - val_accuracy: 1.0000\n",
            "Epoch 17/100\n",
            "2/2 [==============================] - 0s 12ms/step - loss: 0.0799 - accuracy: 0.9750 - val_loss: 0.0117 - val_accuracy: 1.0000\n",
            "Epoch 18/100\n",
            "2/2 [==============================] - 0s 12ms/step - loss: 0.0502 - accuracy: 0.9750 - val_loss: 0.0142 - val_accuracy: 1.0000\n",
            "Epoch 19/100\n",
            "2/2 [==============================] - 0s 12ms/step - loss: 0.0347 - accuracy: 0.9750 - val_loss: 0.0114 - val_accuracy: 1.0000\n",
            "Epoch 20/100\n",
            "2/2 [==============================] - 0s 12ms/step - loss: 0.0241 - accuracy: 1.0000 - val_loss: 0.0037 - val_accuracy: 1.0000\n",
            "Epoch 21/100\n",
            "2/2 [==============================] - 0s 12ms/step - loss: 0.0786 - accuracy: 0.9750 - val_loss: 0.0036 - val_accuracy: 1.0000\n",
            "Epoch 22/100\n",
            "2/2 [==============================] - 0s 13ms/step - loss: 0.0118 - accuracy: 1.0000 - val_loss: 0.0970 - val_accuracy: 0.9000\n",
            "Epoch 23/100\n",
            "2/2 [==============================] - 0s 13ms/step - loss: 0.1487 - accuracy: 0.9500 - val_loss: 0.0114 - val_accuracy: 1.0000\n",
            "Epoch 24/100\n",
            "2/2 [==============================] - 0s 12ms/step - loss: 0.0286 - accuracy: 1.0000 - val_loss: 0.0041 - val_accuracy: 1.0000\n",
            "Epoch 25/100\n",
            "2/2 [==============================] - 0s 13ms/step - loss: 0.0334 - accuracy: 0.9750 - val_loss: 0.0234 - val_accuracy: 1.0000\n",
            "Epoch 26/100\n",
            "2/2 [==============================] - 0s 14ms/step - loss: 0.0955 - accuracy: 0.9750 - val_loss: 0.0113 - val_accuracy: 1.0000\n",
            "Epoch 27/100\n",
            "2/2 [==============================] - 0s 16ms/step - loss: 0.0594 - accuracy: 0.9750 - val_loss: 0.0014 - val_accuracy: 1.0000\n",
            "Epoch 28/100\n",
            "2/2 [==============================] - 0s 13ms/step - loss: 0.0095 - accuracy: 1.0000 - val_loss: 0.0011 - val_accuracy: 1.0000\n",
            "Epoch 29/100\n",
            "2/2 [==============================] - 0s 13ms/step - loss: 0.0052 - accuracy: 1.0000 - val_loss: 0.0030 - val_accuracy: 1.0000\n",
            "Epoch 30/100\n",
            "2/2 [==============================] - 0s 13ms/step - loss: 0.0092 - accuracy: 1.0000 - val_loss: 0.0047 - val_accuracy: 1.0000\n",
            "Epoch 31/100\n",
            "2/2 [==============================] - 0s 12ms/step - loss: 0.0128 - accuracy: 1.0000 - val_loss: 0.0047 - val_accuracy: 1.0000\n",
            "Epoch 32/100\n",
            "2/2 [==============================] - 0s 13ms/step - loss: 0.0119 - accuracy: 1.0000 - val_loss: 0.0033 - val_accuracy: 1.0000\n",
            "Epoch 33/100\n",
            "2/2 [==============================] - 0s 12ms/step - loss: 0.0080 - accuracy: 1.0000 - val_loss: 0.0018 - val_accuracy: 1.0000\n",
            "Epoch 34/100\n",
            "2/2 [==============================] - 0s 13ms/step - loss: 0.0041 - accuracy: 1.0000 - val_loss: 9.6303e-04 - val_accuracy: 1.0000\n",
            "Epoch 35/100\n",
            "2/2 [==============================] - 0s 13ms/step - loss: 0.0022 - accuracy: 1.0000 - val_loss: 5.3098e-04 - val_accuracy: 1.0000\n",
            "Epoch 36/100\n",
            "2/2 [==============================] - 0s 13ms/step - loss: 0.0012 - accuracy: 1.0000 - val_loss: 3.4494e-04 - val_accuracy: 1.0000\n",
            "Epoch 37/100\n",
            "2/2 [==============================] - 0s 12ms/step - loss: 8.9530e-04 - accuracy: 1.0000 - val_loss: 2.8086e-04 - val_accuracy: 1.0000\n",
            "Epoch 38/100\n",
            "2/2 [==============================] - 0s 13ms/step - loss: 9.4362e-04 - accuracy: 1.0000 - val_loss: 2.7644e-04 - val_accuracy: 1.0000\n",
            "Epoch 39/100\n",
            "2/2 [==============================] - 0s 13ms/step - loss: 9.9430e-04 - accuracy: 1.0000 - val_loss: 2.8827e-04 - val_accuracy: 1.0000\n",
            "Epoch 40/100\n",
            "2/2 [==============================] - 0s 13ms/step - loss: 0.0011 - accuracy: 1.0000 - val_loss: 2.9800e-04 - val_accuracy: 1.0000\n",
            "Epoch 41/100\n",
            "2/2 [==============================] - 0s 13ms/step - loss: 0.0012 - accuracy: 1.0000 - val_loss: 2.9533e-04 - val_accuracy: 1.0000\n",
            "Epoch 42/100\n",
            "2/2 [==============================] - 0s 13ms/step - loss: 0.0012 - accuracy: 1.0000 - val_loss: 2.4494e-04 - val_accuracy: 1.0000\n",
            "Epoch 43/100\n",
            "2/2 [==============================] - 0s 13ms/step - loss: 9.3396e-04 - accuracy: 1.0000 - val_loss: 1.9861e-04 - val_accuracy: 1.0000\n",
            "Epoch 44/100\n",
            "2/2 [==============================] - 0s 14ms/step - loss: 6.6480e-04 - accuracy: 1.0000 - val_loss: 2.2119e-04 - val_accuracy: 1.0000\n",
            "Epoch 45/100\n",
            "2/2 [==============================] - 0s 12ms/step - loss: 5.5262e-04 - accuracy: 1.0000 - val_loss: 2.7616e-04 - val_accuracy: 1.0000\n",
            "Epoch 46/100\n",
            "2/2 [==============================] - 0s 12ms/step - loss: 5.8984e-04 - accuracy: 1.0000 - val_loss: 3.1358e-04 - val_accuracy: 1.0000\n",
            "Epoch 47/100\n",
            "2/2 [==============================] - 0s 14ms/step - loss: 6.3328e-04 - accuracy: 1.0000 - val_loss: 2.8209e-04 - val_accuracy: 1.0000\n",
            "Epoch 48/100\n",
            "2/2 [==============================] - 0s 14ms/step - loss: 5.5158e-04 - accuracy: 1.0000 - val_loss: 2.1172e-04 - val_accuracy: 1.0000\n",
            "Epoch 49/100\n",
            "2/2 [==============================] - 0s 14ms/step - loss: 4.7971e-04 - accuracy: 1.0000 - val_loss: 1.6784e-04 - val_accuracy: 1.0000\n",
            "Epoch 50/100\n",
            "2/2 [==============================] - 0s 14ms/step - loss: 4.4035e-04 - accuracy: 1.0000 - val_loss: 1.4944e-04 - val_accuracy: 1.0000\n",
            "Epoch 51/100\n",
            "2/2 [==============================] - 0s 11ms/step - loss: 4.6029e-04 - accuracy: 1.0000 - val_loss: 1.4319e-04 - val_accuracy: 1.0000\n",
            "Epoch 52/100\n",
            "2/2 [==============================] - 0s 12ms/step - loss: 4.9671e-04 - accuracy: 1.0000 - val_loss: 1.3935e-04 - val_accuracy: 1.0000\n",
            "Epoch 53/100\n",
            "2/2 [==============================] - 0s 13ms/step - loss: 4.9938e-04 - accuracy: 1.0000 - val_loss: 1.3388e-04 - val_accuracy: 1.0000\n",
            "Epoch 54/100\n",
            "2/2 [==============================] - 0s 14ms/step - loss: 4.6611e-04 - accuracy: 1.0000 - val_loss: 1.2925e-04 - val_accuracy: 1.0000\n",
            "Epoch 55/100\n",
            "2/2 [==============================] - 0s 13ms/step - loss: 4.3544e-04 - accuracy: 1.0000 - val_loss: 1.2605e-04 - val_accuracy: 1.0000\n",
            "Epoch 56/100\n",
            "2/2 [==============================] - 0s 14ms/step - loss: 4.0551e-04 - accuracy: 1.0000 - val_loss: 1.2357e-04 - val_accuracy: 1.0000\n",
            "Epoch 57/100\n",
            "2/2 [==============================] - 0s 13ms/step - loss: 3.7985e-04 - accuracy: 1.0000 - val_loss: 1.2148e-04 - val_accuracy: 1.0000\n",
            "Epoch 58/100\n",
            "2/2 [==============================] - 0s 12ms/step - loss: 3.6150e-04 - accuracy: 1.0000 - val_loss: 1.2154e-04 - val_accuracy: 1.0000\n",
            "Epoch 59/100\n",
            "2/2 [==============================] - 0s 13ms/step - loss: 3.4488e-04 - accuracy: 1.0000 - val_loss: 1.2401e-04 - val_accuracy: 1.0000\n",
            "Epoch 60/100\n",
            "2/2 [==============================] - 0s 12ms/step - loss: 3.3190e-04 - accuracy: 1.0000 - val_loss: 1.2634e-04 - val_accuracy: 1.0000\n",
            "Epoch 61/100\n",
            "2/2 [==============================] - 0s 13ms/step - loss: 3.1818e-04 - accuracy: 1.0000 - val_loss: 1.2790e-04 - val_accuracy: 1.0000\n",
            "Epoch 62/100\n",
            "2/2 [==============================] - 0s 12ms/step - loss: 3.1560e-04 - accuracy: 1.0000 - val_loss: 1.2872e-04 - val_accuracy: 1.0000\n",
            "Epoch 63/100\n",
            "2/2 [==============================] - 0s 12ms/step - loss: 3.0759e-04 - accuracy: 1.0000 - val_loss: 1.2422e-04 - val_accuracy: 1.0000\n",
            "Epoch 64/100\n",
            "2/2 [==============================] - 0s 12ms/step - loss: 2.9842e-04 - accuracy: 1.0000 - val_loss: 1.1772e-04 - val_accuracy: 1.0000\n",
            "Epoch 65/100\n",
            "2/2 [==============================] - 0s 12ms/step - loss: 2.8947e-04 - accuracy: 1.0000 - val_loss: 1.1100e-04 - val_accuracy: 1.0000\n",
            "Epoch 66/100\n",
            "2/2 [==============================] - 0s 12ms/step - loss: 2.8060e-04 - accuracy: 1.0000 - val_loss: 1.0399e-04 - val_accuracy: 1.0000\n",
            "Epoch 67/100\n",
            "2/2 [==============================] - 0s 13ms/step - loss: 2.7547e-04 - accuracy: 1.0000 - val_loss: 9.6907e-05 - val_accuracy: 1.0000\n",
            "Epoch 68/100\n",
            "2/2 [==============================] - 0s 14ms/step - loss: 2.7960e-04 - accuracy: 1.0000 - val_loss: 9.3142e-05 - val_accuracy: 1.0000\n",
            "Epoch 69/100\n",
            "2/2 [==============================] - 0s 13ms/step - loss: 2.7143e-04 - accuracy: 1.0000 - val_loss: 9.2629e-05 - val_accuracy: 1.0000\n",
            "Epoch 70/100\n",
            "2/2 [==============================] - 0s 12ms/step - loss: 2.6154e-04 - accuracy: 1.0000 - val_loss: 9.2628e-05 - val_accuracy: 1.0000\n",
            "Epoch 71/100\n",
            "2/2 [==============================] - 0s 13ms/step - loss: 2.5319e-04 - accuracy: 1.0000 - val_loss: 9.2984e-05 - val_accuracy: 1.0000\n",
            "Epoch 72/100\n",
            "2/2 [==============================] - 0s 13ms/step - loss: 2.4658e-04 - accuracy: 1.0000 - val_loss: 9.3269e-05 - val_accuracy: 1.0000\n",
            "Epoch 73/100\n",
            "2/2 [==============================] - 0s 12ms/step - loss: 2.3927e-04 - accuracy: 1.0000 - val_loss: 9.4281e-05 - val_accuracy: 1.0000\n",
            "Epoch 74/100\n",
            "2/2 [==============================] - 0s 13ms/step - loss: 2.3335e-04 - accuracy: 1.0000 - val_loss: 9.7531e-05 - val_accuracy: 1.0000\n",
            "Epoch 75/100\n",
            "2/2 [==============================] - 0s 13ms/step - loss: 2.3294e-04 - accuracy: 1.0000 - val_loss: 9.9698e-05 - val_accuracy: 1.0000\n",
            "Epoch 76/100\n",
            "2/2 [==============================] - 0s 13ms/step - loss: 2.2921e-04 - accuracy: 1.0000 - val_loss: 9.8232e-05 - val_accuracy: 1.0000\n",
            "Epoch 77/100\n",
            "2/2 [==============================] - 0s 12ms/step - loss: 2.2434e-04 - accuracy: 1.0000 - val_loss: 9.4337e-05 - val_accuracy: 1.0000\n",
            "Epoch 78/100\n",
            "2/2 [==============================] - 0s 13ms/step - loss: 2.1801e-04 - accuracy: 1.0000 - val_loss: 8.9965e-05 - val_accuracy: 1.0000\n",
            "Epoch 79/100\n",
            "2/2 [==============================] - 0s 13ms/step - loss: 2.1109e-04 - accuracy: 1.0000 - val_loss: 8.4200e-05 - val_accuracy: 1.0000\n",
            "Epoch 80/100\n",
            "2/2 [==============================] - 0s 13ms/step - loss: 2.0357e-04 - accuracy: 1.0000 - val_loss: 7.6600e-05 - val_accuracy: 1.0000\n",
            "Epoch 81/100\n",
            "2/2 [==============================] - 0s 15ms/step - loss: 2.0683e-04 - accuracy: 1.0000 - val_loss: 7.1596e-05 - val_accuracy: 1.0000\n",
            "Epoch 82/100\n",
            "2/2 [==============================] - 0s 13ms/step - loss: 1.9983e-04 - accuracy: 1.0000 - val_loss: 6.9928e-05 - val_accuracy: 1.0000\n",
            "Epoch 83/100\n",
            "2/2 [==============================] - 0s 15ms/step - loss: 1.9545e-04 - accuracy: 1.0000 - val_loss: 6.9320e-05 - val_accuracy: 1.0000\n",
            "Epoch 84/100\n",
            "2/2 [==============================] - 0s 12ms/step - loss: 1.9092e-04 - accuracy: 1.0000 - val_loss: 6.9855e-05 - val_accuracy: 1.0000\n",
            "Epoch 85/100\n",
            "2/2 [==============================] - 0s 12ms/step - loss: 1.8536e-04 - accuracy: 1.0000 - val_loss: 7.0415e-05 - val_accuracy: 1.0000\n",
            "Epoch 86/100\n",
            "2/2 [==============================] - 0s 13ms/step - loss: 1.8156e-04 - accuracy: 1.0000 - val_loss: 7.1105e-05 - val_accuracy: 1.0000\n",
            "Epoch 87/100\n",
            "2/2 [==============================] - 0s 14ms/step - loss: 1.7783e-04 - accuracy: 1.0000 - val_loss: 7.1903e-05 - val_accuracy: 1.0000\n",
            "Epoch 88/100\n",
            "2/2 [==============================] - 0s 14ms/step - loss: 1.7564e-04 - accuracy: 1.0000 - val_loss: 7.2403e-05 - val_accuracy: 1.0000\n",
            "Epoch 89/100\n",
            "2/2 [==============================] - 0s 13ms/step - loss: 1.7311e-04 - accuracy: 1.0000 - val_loss: 7.0330e-05 - val_accuracy: 1.0000\n",
            "Epoch 90/100\n",
            "2/2 [==============================] - 0s 12ms/step - loss: 1.7008e-04 - accuracy: 1.0000 - val_loss: 6.6863e-05 - val_accuracy: 1.0000\n",
            "Epoch 91/100\n",
            "2/2 [==============================] - 0s 12ms/step - loss: 1.6545e-04 - accuracy: 1.0000 - val_loss: 6.4742e-05 - val_accuracy: 1.0000\n",
            "Epoch 92/100\n",
            "2/2 [==============================] - 0s 12ms/step - loss: 1.6277e-04 - accuracy: 1.0000 - val_loss: 6.2943e-05 - val_accuracy: 1.0000\n",
            "Epoch 93/100\n",
            "2/2 [==============================] - 0s 12ms/step - loss: 1.6030e-04 - accuracy: 1.0000 - val_loss: 6.2192e-05 - val_accuracy: 1.0000\n",
            "Epoch 94/100\n",
            "2/2 [==============================] - 0s 13ms/step - loss: 1.5670e-04 - accuracy: 1.0000 - val_loss: 6.3276e-05 - val_accuracy: 1.0000\n",
            "Epoch 95/100\n",
            "2/2 [==============================] - 0s 13ms/step - loss: 1.5344e-04 - accuracy: 1.0000 - val_loss: 6.4062e-05 - val_accuracy: 1.0000\n",
            "Epoch 96/100\n",
            "2/2 [==============================] - 0s 13ms/step - loss: 1.5117e-04 - accuracy: 1.0000 - val_loss: 6.5265e-05 - val_accuracy: 1.0000\n",
            "Epoch 97/100\n",
            "2/2 [==============================] - 0s 12ms/step - loss: 1.4920e-04 - accuracy: 1.0000 - val_loss: 6.6837e-05 - val_accuracy: 1.0000\n",
            "Epoch 98/100\n",
            "2/2 [==============================] - 0s 12ms/step - loss: 1.4797e-04 - accuracy: 1.0000 - val_loss: 6.9636e-05 - val_accuracy: 1.0000\n",
            "Epoch 99/100\n",
            "2/2 [==============================] - 0s 16ms/step - loss: 1.4818e-04 - accuracy: 1.0000 - val_loss: 7.3484e-05 - val_accuracy: 1.0000\n",
            "Epoch 100/100\n",
            "2/2 [==============================] - 0s 13ms/step - loss: 1.5117e-04 - accuracy: 1.0000 - val_loss: 7.5497e-05 - val_accuracy: 1.0000\n"
          ],
          "name": "stdout"
        }
      ]
    },
    {
      "cell_type": "code",
      "metadata": {
        "id": "NvorWeECwphG",
        "colab_type": "code",
        "colab": {
          "base_uri": "https://localhost:8080/",
          "height": 573
        },
        "outputId": "2c333af7-a0cc-4c25-c52d-469f5040c3be"
      },
      "source": [
        "from matplotlib import pyplot as plt\n",
        "\n",
        "#plotting_accuracy_and_loss\n",
        "plt.plot(history.history['accuracy'])\n",
        "plt.plot(history.history['val_accuracy'])\n",
        "plt.title('model accuracy')\n",
        "plt.ylabel('accuracy')\n",
        "plt.xlabel('epoch')\n",
        "plt.legend(['train', 'val'], loc='upper left')\n",
        "plt.show()\n",
        "\n",
        "\n",
        "\n",
        "plt.plot(history.history['loss'])\n",
        "plt.plot(history.history['val_loss'])\n",
        "plt.title('model loss')\n",
        "plt.ylabel('loss')\n",
        "plt.xlabel('epoch')\n",
        "plt.legend(['train', 'val'], loc='upper left')\n",
        "plt.show()"
      ],
      "execution_count": 17,
      "outputs": [
        {
          "output_type": "display_data",
          "data": {
            "image/png": "[encoded data removed]",
            "text/plain": [
              "<Figure size 432x288 with 1 Axes>"
            ]
          },
          "metadata": {
            "tags": [],
            "needs_background": "light"
          }
        },
        {
          "output_type": "display_data",
          "data": {
            "image/png": "[encoded data removed]",
            "text/plain": [
              "<Figure size 432x288 with 1 Axes>"
            ]
          },
          "metadata": {
            "tags": [],
            "needs_background": "light"
          }
        }
      ]
    },
    {
      "cell_type": "code",
      "metadata": {
        "id": "YV8BPgn-VyA0",
        "colab_type": "code",
        "colab": {}
      },
      "source": [
        "#saving_the_keras_models\n",
        "MODEL_NAME = \"covid__model.h5\"\n",
        "\n",
        "classifier.save(MODEL_NAME)"
      ],
      "execution_count": 23,
      "outputs": []
    },
    {
      "cell_type": "code",
      "metadata": {
        "id": "7UnWNkoXV26m",
        "colab_type": "code",
        "colab": {}
      },
      "source": [
        "#loading_model\n",
        "loaded_model = tf.keras.models.load_model(MODEL_NAME)"
      ],
      "execution_count": 27,
      "outputs": []
    },
    {
      "cell_type": "code",
      "metadata": {
        "id": "1joUq17AWWAE",
        "colab_type": "code",
        "colab": {
          "base_uri": "https://localhost:8080/",
          "height": 238
        },
        "outputId": "9fe16571-16ce-406d-eab8-51c36acad388"
      },
      "source": [
        "#Plotting confusion matrix and classification report\n",
        "\n",
        "from sklearn.metrics import classification_report, confusion_matrix\n",
        "\n",
        "predictions = loaded_model.predict(X_test)\n",
        "predictions = np.argmax(predictions, axis=1)\n",
        "print(\"predictions\", predictions)\n",
        "\n",
        "Y_test = np.argmax(Y_test, axis=1)\n",
        "print(\"Original\", Y_test)\n",
        "print(classification_report(Y_test, predictions))\n",
        "\n",
        "#print confusion matrix\n",
        "cm = confusion_matrix(Y_test, predictions)\n",
        "print(cm)"
      ],
      "execution_count": 33,
      "outputs": [
        {
          "output_type": "stream",
          "text": [
            "predictions [0 0 0 0 1 1 1 1 0 1]\n",
            "Original [0 0 0 0 1 1 1 1 0 1]\n",
            "              precision    recall  f1-score   support\n",
            "\n",
            "           0       1.00      1.00      1.00         5\n",
            "           1       1.00      1.00      1.00         5\n",
            "\n",
            "    accuracy                           1.00        10\n",
            "   macro avg       1.00      1.00      1.00        10\n",
            "weighted avg       1.00      1.00      1.00        10\n",
            "\n",
            "[[5 0]\n",
            " [0 5]]\n"
          ],
          "name": "stdout"
        }
      ]
    },
    {
      "cell_type": "code",
      "metadata": {
        "id": "2s3vuEDJYSt6",
        "colab_type": "code",
        "colab": {}
      },
      "source": [
        "import itertools\n",
        "import matplotlib.pyplot as plt\n",
        "\n",
        "def plot_confusion_matrix(cm, classes,\n",
        "                          normalize=False,\n",
        "                          title='Confusion matrix',\n",
        "                          cmap=plt.cm.Blues):\n",
        "    \"\"\"\n",
        "    This function prints and plots the confusion matrix.\n",
        "    Normalization can be applied by setting `normalize=True`.\n",
        "    \"\"\"\n",
        "    if normalize:\n",
        "        cm = cm.astype('float') / cm.sum(axis=1)[:, np.newaxis]\n",
        "        print(\"Normalized confusion matrix\")\n",
        "    else:\n",
        "        print('Confusion matrix, without normalization')\n",
        "\n",
        "    plt.imshow(cm, interpolation='nearest', cmap=cmap)\n",
        "    plt.title(title)\n",
        "    plt.colorbar()\n",
        "    tick_marks = np.arange(len(classes))\n",
        "    plt.xticks(tick_marks, classes, rotation=45)\n",
        "    plt.yticks(tick_marks, classes)\n",
        "\n",
        "    fmt = '.2f' if normalize else 'd'\n",
        "    thresh = cm.max() / 2.\n",
        "    for i, j in itertools.product(range(cm.shape[0]), range(cm.shape[1])):\n",
        "        plt.text(j, i, format(cm[i, j], fmt),\n",
        "                 horizontalalignment=\"center\",\n",
        "                 color=\"white\" if cm[i, j] > thresh else \"black\")\n",
        "\n",
        "    plt.ylabel('True label')\n",
        "    plt.xlabel('Predicted label')\n",
        "    plt.tight_layout()"
      ],
      "execution_count": 34,
      "outputs": []
    },
    {
      "cell_type": "code",
      "metadata": {
        "id": "YNBAeYp3YWtO",
        "colab_type": "code",
        "colab": {
          "base_uri": "https://localhost:8080/",
          "height": 759
        },
        "outputId": "3e18f77c-adaf-4e71-bce1-7e83e1c16b5b"
      },
      "source": [
        "class_names = [\"covid\", \"normal\"]\n",
        "\n",
        "# Compute confusion matrix\n",
        "cnf_matrix = cm\n",
        "np.set_printoptions(precision=2)\n",
        "\n",
        "# Plot non-normalized confusion matrix\n",
        "plt.figure()\n",
        "plt.figure(figsize=(5, 5))\n",
        "plot_confusion_matrix(cnf_matrix, classes=class_names,\n",
        "                      title='Confusion matrix, without normalization')\n",
        "\n",
        "# Plot normalized confusion matrix\n",
        "plt.figure()\n",
        "plt.figure(figsize=(5, 5))\n",
        "plot_confusion_matrix(cnf_matrix, classes=class_names, normalize=True,\n",
        "                      title='Normalized confusion matrix')\n",
        "\n",
        "plt.show()"
      ],
      "execution_count": 36,
      "outputs": [
        {
          "output_type": "stream",
          "text": [
            "Confusion matrix, without normalization\n",
            "Normalized confusion matrix\n"
          ],
          "name": "stdout"
        },
        {
          "output_type": "display_data",
          "data": {
            "text/plain": [
              "<Figure size 432x288 with 0 Axes>"
            ]
          },
          "metadata": {
            "tags": []
          }
        },
        {
          "output_type": "display_data",
          "data": {
            "image/png": "[encoded data removed]",
            "text/plain": [
              "<Figure size 360x360 with 2 Axes>"
            ]
          },
          "metadata": {
            "tags": [],
            "needs_background": "light"
          }
        },
        {
          "output_type": "display_data",
          "data": {
            "text/plain": [
              "<Figure size 432x288 with 0 Axes>"
            ]
          },
          "metadata": {
            "tags": []
          }
        },
        {
          "output_type": "display_data",
          "data": {
            "image/png": "[encoded data removed]",
            "text/plain": [
              "<Figure size 360x360 with 2 Axes>"
            ]
          },
          "metadata": {
            "tags": [],
            "needs_background": "light"
          }
        }
      ]
    }
  ]
}